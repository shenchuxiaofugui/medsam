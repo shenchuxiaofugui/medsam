{
 "cells": [
  {
   "cell_type": "code",
   "execution_count": 2,
   "metadata": {},
   "outputs": [],
   "source": [
    "from pathlib import Path\n",
    "import os\n",
    "join = os.path.join\n",
    "import nibabel as nib\n",
    "import numpy as np\n",
    "from skimage import measure\n",
    "from skimage import morphology"
   ]
  },
  {
   "cell_type": "code",
   "execution_count": 30,
   "metadata": {},
   "outputs": [],
   "source": [
    "# 卡阈值测试\n",
    "pred_path = f\"/data3/home/lishengyong/data/ssc_0802/new_slices/infer_3d/axis_1/0818_98/multi_box\"\n",
    "img_path = \"/data3/home/lishengyong/data/ssc_0802/new_slices/3D_open_image_list\"\n",
    "store_path = \"/data3/home/lishengyong/data/ssc_0802/new_slices/infer_3d/axis_1/0818_98/croped\"\n",
    "os.makedirs(store_path, exist_ok=True)\n",
    "k = 1\n",
    "for case in Path(pred_path).iterdir():\n",
    "    mask_arr = nib.load(case).get_fdata().astype(int)\n",
    "    mask_arr[mask_arr==1] = 0\n",
    "    mask_arr[mask_arr==2] = 1\n",
    "    img_arr = nib.load(join(img_path, case.name)).get_fdata()\n",
    "    if np.sum(mask_arr * img_arr) / np.sum(mask_arr) < 200:\n",
    "        crop_mask_arr = mask_arr & (img_arr < 200) & (img_arr > -750)\n",
    "        nib.save(nib.Nifti1Image(crop_mask_arr.astype(float), None), join(store_path, case.name))\n",
    "        k += 1\n",
    "    else:\n",
    "        nib.save(nib.Nifti1Image(mask_arr.astype(float), None), join(store_path, case.name))\n",
    "    # if k > 50:\n",
    "    #     break"
   ]
  },
  {
   "cell_type": "code",
   "execution_count": 31,
   "metadata": {},
   "outputs": [],
   "source": [
    "cases = [i for i in Path(store_path).iterdir()]\n",
    "crop2_path = \"/data3/home/lishengyong/data/ssc_0802/new_slices/infer_3d/axis_1/0818_98/croped2\"\n",
    "os.makedirs(crop2_path, exist_ok=True)\n",
    "for case in cases:\n",
    "    mask = nib.load(case).get_fdata().astype(int)\n",
    "    ori_mask = nib.load(join(pred_path, case.name)).get_fdata()\n",
    "    ori_mask[ori_mask == 1] = 0\n",
    "    ori_mask[ori_mask == 2] = 1\n",
    "    ccs1 = measure.regionprops(measure.label(ori_mask))\n",
    "    new_mask = np.zeros((32, 128, 128))\n",
    "    for cc in ccs1:\n",
    "        a = np.zeros((32, 128, 128), np.int8)\n",
    "        a[tuple(cc.coords.T)] = 1\n",
    "        b = a & mask\n",
    "        single_cc = measure.label(b)\n",
    "        ccs2 = measure.regionprops(single_cc)\n",
    "        max_area = 0\n",
    "        for cc2 in ccs2:\n",
    "            if cc2.area > max_area:\n",
    "                max_area = cc2.area\n",
    "                coords = tuple(cc2.coords.T)\n",
    "        new_mask[coords] = 1\n",
    "    nib.save(nib.Nifti1Image(new_mask.astype(float), None), join(crop2_path, case.name))\n",
    "    \n",
    "    "
   ]
  },
  {
   "cell_type": "code",
   "execution_count": 5,
   "metadata": {},
   "outputs": [],
   "source": [
    "mask_path = \"/data3/home/lishengyong/data/ssc_0802/new_slices/3D_masks\"\n",
    "store_path = \"/data3/home/lishengyong/data/ssc_0802/\\\n",
    "new_slices/infer_3d/axis_1/0818_98/iter5/infer_add\"\n",
    "os.makedirs(store_path, exist_ok=True)\n",
    "for i in Path(\"/data3/home/lishengyong/data/ssc_0802/\\\n",
    "new_slices/infer_3d/axis_1/0818_98/iter5/infer_croped\").iterdir():\n",
    "    mask1 = nib.load(i).get_fdata()\n",
    "    mask2 = nib.load(join(mask_path, i.name)).get_fdata()\n",
    "    mask1[mask2 == 1] = 1\n",
    "    nib.save(nib.Nifti1Image(mask1, None), join(store_path, i.name))\n"
   ]
  },
  {
   "cell_type": "code",
   "execution_count": 3,
   "metadata": {},
   "outputs": [],
   "source": [
    "# 开运算\n",
    "mask_path = \"/data3/home/lishengyong/data/ssc_3d/slices/infer_3d_iter/axis_1/0818_98/iter9/infer\"\n",
    "store_path = \"/data3/home/lishengyong/data/ssc_3d/slices/infer_3d_iter/axis_1/0818_98/iter9/opening\"\n",
    "os.makedirs(store_path, exist_ok=True)\n",
    "#读取mask\n",
    "for i in Path(mask_path).iterdir():\n",
    "    image = nib.load(i).get_fdata()\n",
    "    image[image == 1] = 0\n",
    "    image[image == 2] = 1\n",
    "    # 定义结构元素\n",
    "    selem = morphology.disk(1)  # 使用半径为1的圆形结构元素\n",
    "    # 进行开运算操作\n",
    "    open_image_list = []\n",
    "    for slice in image:\n",
    "        if np.sum(slice) < 20:\n",
    "            open_image_list.append(slice)\n",
    "        else:\n",
    "            open_image_list.append(morphology.opening(slice, selem))\n",
    "    opened_image = np.stack(open_image_list)\n",
    "    nib.save(nib.Nifti1Image(opened_image, None), join(store_path, i.name))"
   ]
  },
  {
   "cell_type": "code",
   "execution_count": 10,
   "metadata": {},
   "outputs": [
    {
     "data": {
      "text/plain": [
       "array([[0, 1, 0],\n",
       "       [1, 1, 1],\n",
       "       [0, 1, 0]], dtype=uint8)"
      ]
     },
     "execution_count": 10,
     "metadata": {},
     "output_type": "execute_result"
    }
   ],
   "source": [
    "morphology.disk(1)"
   ]
  },
  {
   "cell_type": "code",
   "execution_count": null,
   "metadata": {},
   "outputs": [],
   "source": []
  }
 ],
 "metadata": {
  "kernelspec": {
   "display_name": "sam",
   "language": "python",
   "name": "python3"
  },
  "language_info": {
   "codemirror_mode": {
    "name": "ipython",
    "version": 3
   },
   "file_extension": ".py",
   "mimetype": "text/x-python",
   "name": "python",
   "nbconvert_exporter": "python",
   "pygments_lexer": "ipython3",
   "version": "3.10.11"
  },
  "orig_nbformat": 4
 },
 "nbformat": 4,
 "nbformat_minor": 2
}
