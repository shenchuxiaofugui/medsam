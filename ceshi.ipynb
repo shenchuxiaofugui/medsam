{
 "cells": [
  {
   "cell_type": "code",
   "execution_count": 2,
   "metadata": {},
   "outputs": [
    {
     "name": "stdout",
     "output_type": "stream",
     "text": [
      "[0. 1.]\n"
     ]
    }
   ],
   "source": [
    "import json\n",
    "import os\n",
    "join = os.path.join\n",
    "from pathlib import Path\n",
    "import numpy as np\n",
    "from utils.utils import get_slice,crop2\n",
    "import nibabel as nib\n",
    "\n",
    "single_box_path = \"/data3/home/lishengyong/data/ssc_3d/slices/infer_3d_iter/axis_1/0818_98/iter5/single_bbox\"\n",
    "data_path = \"/data3/home/lishengyong/data/ssc_3d/slices/3D_masks/002.zarr_[302 354 236].nii.gz\"\n",
    "img_arr = nib.load(data_path).get_fdata()\n",
    "# img_arr[img_arr != 1] = 0\n",
    "print(np.unique(img_arr))\n",
    "# nib.save(nib.Nifti1Image(img_arr, None), data_path)"
   ]
  },
  {
   "cell_type": "code",
   "execution_count": 19,
   "metadata": {},
   "outputs": [
    {
     "name": "stdout",
     "output_type": "stream",
     "text": [
      "9070 2139\n"
     ]
    }
   ],
   "source": [
    "from tqdm import tqdm\n",
    "k = 0\n",
    "had_cases = os.listdir(\"/data3/home/lishengyong/data/ssc_3d/slices/infer_3d_iter/axis_1/0818_98/iter8/embadding\")\n",
    "cases = [i[:-7] for i in os.listdir(\"/data3/home/lishengyong/data/ssc_3d/slices/infer_3d_iter/axis_1/0818_98/multi_box\")]\n",
    "new_cases = set(cases).difference(set(had_cases))\n",
    "print(len(cases), len(new_cases))\n",
    "with open(\"/data3/home/lishengyong/data/ssc_3d/slices/case_name1.json\", \"w\") as json_file:\n",
    "    json.dump(list(new_cases), json_file)"
   ]
  },
  {
   "cell_type": "code",
   "execution_count": null,
   "metadata": {},
   "outputs": [],
   "source": [
    "for i in Path(\"/data3/home/lishengyong/data/ssc_3d/slices/infer_3d_iter/axis1/embadding\").iterdir():\n",
    "    k = 0\n",
    "    for j in range(128):\n",
    "        if os.path.exists(join(i, f\"{j}_0.h5py\")):\n",
    "            k += 1\n",
    "    if k == 128:\n",
    "        print(i.name)"
   ]
  },
  {
   "cell_type": "code",
   "execution_count": 2,
   "metadata": {},
   "outputs": [
    {
     "name": "stdout",
     "output_type": "stream",
     "text": [
      "arch\n",
      "epoch\n",
      "state_dict\n",
      "optimizer\n",
      "monitor_best\n",
      "config\n",
      "93\n"
     ]
    }
   ],
   "source": [
    "import torch\n",
    "info = torch.load('/data3/home/lishengyong/code/MedSAM/saved/model/0818_98/model_best.pth')\n",
    "for key in info.keys():\n",
    "    print(key)\n",
    "print(info[\"epoch\"])"
   ]
  }
 ],
 "metadata": {
  "kernelspec": {
   "display_name": "sam",
   "language": "python",
   "name": "python3"
  },
  "language_info": {
   "codemirror_mode": {
    "name": "ipython",
    "version": 3
   },
   "file_extension": ".py",
   "mimetype": "text/x-python",
   "name": "python",
   "nbconvert_exporter": "python",
   "pygments_lexer": "ipython3",
   "version": "3.10.11"
  },
  "orig_nbformat": 4
 },
 "nbformat": 4,
 "nbformat_minor": 2
}
