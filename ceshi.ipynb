{
 "cells": [
  {
   "cell_type": "code",
   "execution_count": 2,
   "metadata": {},
   "outputs": [
    {
     "name": "stdout",
     "output_type": "stream",
     "text": [
      "[0. 1.]\n"
     ]
    }
   ],
   "source": [
    "import json\n",
    "import os\n",
    "join = os.path.join\n",
    "from pathlib import Path\n",
    "import numpy as np\n",
    "from utils.utils import get_slice,crop2\n",
    "import nibabel as nib\n",
    "\n",
    "single_box_path = \"/data3/home/lishengyong/data/ssc_3d/slices/infer_3d_iter/axis_1/0818_98/iter5/single_bbox\"\n",
    "data_path = \"/data3/home/lishengyong/data/ssc_3d/slices/3D_masks/002.zarr_[302 354 236].nii.gz\"\n",
    "img_arr = nib.load(data_path).get_fdata()\n",
    "# img_arr[img_arr != 1] = 0\n",
    "print(np.unique(img_arr))\n",
    "# nib.save(nib.Nifti1Image(img_arr, None), data_path)"
   ]
  },
  {
   "cell_type": "code",
   "execution_count": 15,
   "metadata": {},
   "outputs": [
    {
     "name": "stdout",
     "output_type": "stream",
     "text": [
      "[(1, 'apple'), (2, 'cherry'), (3, 'banana')]\n"
     ]
    }
   ],
   "source": [
    "def construct_binary"
   ]
  },
  {
   "cell_type": "code",
   "execution_count": 19,
   "metadata": {},
   "outputs": [],
   "source": [
    "a = input(\"input:\")"
   ]
  },
  {
   "cell_type": "code",
   "execution_count": 21,
   "metadata": {},
   "outputs": [
    {
     "name": "stdout",
     "output_type": "stream",
     "text": [
      "中序遍历结果： [1, 2, 3, 4, 5]\n"
     ]
    }
   ],
   "source": [
    "nullnum = 0\n",
    "class TreeNode:\n",
    "    def __init__(self,val=0,left=None,right=None):\n",
    "        self.val = val\n",
    "        self.left = left\n",
    "        self.right = right\n",
    "\n",
    "def construct_binary_tree(nums, index):\n",
    "    if index >= len(nums):\n",
    "        return\n",
    "    # 0作为空节点\n",
    "    if nums[index]==nullnum:\n",
    "        return None\n",
    "    left = index*2+1\n",
    "    right = index*2+2\n",
    "    root = TreeNode(nums[index])\n",
    "    root.left = construct_binary_tree(nums, left)\n",
    "    root.right = construct_binary_tree(nums, right)\n",
    "    return root\n",
    "\n",
    "nums = [1,2,3,0,4,5,0]\n",
    "root = construct_binary_tree(nums, 0)\n",
    "def cxbl(root):\n",
    "    st = [root]\n",
    "    res = []\n",
    "    while st:\n",
    "        l = len(st)\n",
    "        for i in range(l):\n",
    "            node = st.pop(0)\n",
    "            res.append(node.val)\n",
    "            if node.left:\n",
    "                st.append(node.left)\n",
    "            if node.right:\n",
    "                st.append(node.right)\n",
    "    return res\n",
    "print('中序遍历结果：',cxbl(root))\n"
   ]
  },
  {
   "cell_type": "code",
   "execution_count": 24,
   "metadata": {},
   "outputs": [
    {
     "data": {
      "text/plain": [
       "2"
      ]
     },
     "execution_count": 24,
     "metadata": {},
     "output_type": "execute_result"
    }
   ],
   "source": [
    "a = [1, 2]\n",
    "a.pop()"
   ]
  },
  {
   "cell_type": "code",
   "execution_count": 2,
   "metadata": {},
   "outputs": [
    {
     "name": "stdout",
     "output_type": "stream",
     "text": [
      "[[0, 12, 12, 12, 12, 12, 12, 12, 12, 12, 12, 12], [0, 1, 2, 3, 4, 5, 6, 7, 8, 9, 10, 11], [0, 1, 1, 2, 2, 3, 3, 4, 4, 5, 5, 6], [0, 1, 1, 2, 2, 1, 2, 2, 3, 3, 2, 3]]\n"
     ]
    },
    {
     "data": {
      "text/plain": [
       "3"
      ]
     },
     "execution_count": 2,
     "metadata": {},
     "output_type": "execute_result"
    }
   ],
   "source": [
    "def wordBreak(s: str, wordDict) -> bool:\n",
    "    from collections import deque\n",
    "    zi = deque()\n",
    "    zi.append(s)\n",
    "    visited = set()\n",
    "    while len(zi) != 0: \n",
    "        target = zi.popleft()\n",
    "        for word in wordDict:\n",
    "            length = len(word)\n",
    "            if word == target[:length] and target[length:] not in visited:\n",
    "                if len(target) == length:\n",
    "                    return True\n",
    "                zi.append(target[length:])\n",
    "                visited.add(target[length:])\n",
    "    return False\n",
    "\n"
   ]
  },
  {
   "cell_type": "code",
   "execution_count": null,
   "metadata": {},
   "outputs": [],
   "source": [
    "def isSymmetric(root):\n",
    "    white, gray = 1, 0\n",
    "    res_right, res_left = [], []\n",
    "\n",
    "    zishu = [(white, root.left)]\n",
    "    while zishu:\n",
    "        color, node = zishu.pop()\n",
    "        if node is None: continue\n",
    "        if color:\n",
    "            zishu.append((white, node.right))\n",
    "            zishu.append((gray, node))\n",
    "            zishu.append((white, node.left))\n",
    "        else:\n",
    "            res_left.append(node.val)\n",
    "\n",
    "    zishu = [(white, root.right)]\n",
    "    while zishu:\n",
    "        color, node = zishu.pop()\n",
    "        if node is None: continue\n",
    "        if color:\n",
    "            zishu.append((white, node.left))\n",
    "            zishu.append((gray, node))\n",
    "            zishu.append((white, node.right))\n",
    "        else:\n",
    "            res_right.append(node.val)\n",
    "\n",
    "    return res_left == res_right"
   ]
  },
  {
   "cell_type": "code",
   "execution_count": 2,
   "metadata": {},
   "outputs": [
    {
     "name": "stdout",
     "output_type": "stream",
     "text": [
      "arch\n",
      "epoch\n",
      "state_dict\n",
      "optimizer\n",
      "monitor_best\n",
      "config\n",
      "93\n"
     ]
    }
   ],
   "source": [
    "import torch\n",
    "info = torch.load('/data3/home/lishengyong/code/MedSAM/saved/model/0818_98/model_best.pth')\n",
    "for key in info.keys():\n",
    "    print(key)\n",
    "print(info[\"epoch\"])"
   ]
  }
 ],
 "metadata": {
  "kernelspec": {
   "display_name": "sam",
   "language": "python",
   "name": "python3"
  },
  "language_info": {
   "codemirror_mode": {
    "name": "ipython",
    "version": 3
   },
   "file_extension": ".py",
   "mimetype": "text/x-python",
   "name": "python",
   "nbconvert_exporter": "python",
   "pygments_lexer": "ipython3",
   "version": "3.11.5"
  },
  "orig_nbformat": 4
 },
 "nbformat": 4,
 "nbformat_minor": 2
}
